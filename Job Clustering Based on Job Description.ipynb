{
 "cells": [
  {
   "cell_type": "markdown",
   "metadata": {},
   "source": [
    "# Job Clustering Based on Job Description\n",
    "\n",
    "Attached, you would find a dataset downloaded from Kaggle. This dataset contains job\n",
    "offers.\n",
    "\n",
    "According to the job description columns, would you be able to categorise the jobs ?\n",
    "Technology to use: Python and libraries of your choice\n",
    "\n",
    "What does this have:\n",
    "Jupyter notebook explaining the solution."
   ]
  },
  {
   "cell_type": "markdown",
   "metadata": {},
   "source": [
    "## Summary:\n",
    "\n",
    "### 1) Imported the required packages\n",
    "\n",
    "### 2) Pre-processed the data\n",
    "\n",
    "### 3) Stop Words Removal, Stemming and Tokenization are performed for clean vectorization of the corpus\n",
    "\n",
    "### 4) Used TF-IDF for quick Vectorization\n",
    "\n",
    "### 5) Used Elbow method to determine the number of clusters\n",
    "\n",
    "### 6) And the number of clusters are formed and printed to visualize the way in which clusters are formed\n",
    "\n",
    "### 7) Finally Kmean fitpredict shall be used to identify the cluster of the JobDescription."
   ]
  },
  {
   "cell_type": "markdown",
   "metadata": {
    "_cell_guid": "8b9d6583-6ae1-4bb6-970c-c80d42dfebdb",
    "_uuid": "d56b7961b91d7f67554ec48bd1d2485fb7419120"
   },
   "source": [
    "## Importing All the necessary Packages\n"
   ]
  },
  {
   "cell_type": "code",
   "execution_count": 1,
   "metadata": {
    "_cell_guid": "b1076dfc-b9ad-4769-8c92-a6c4dae69d19",
    "_uuid": "8f2839f25d086af736a60e9eeb907d3b93b6e0e5"
   },
   "outputs": [],
   "source": [
    "import numpy as np \n",
    "import pandas as pd \n",
    "import matplotlib.pyplot as plt\n",
    "import seaborn as sns\n",
    "from sklearn.feature_extraction import text\n",
    "from sklearn.feature_extraction.text import TfidfVectorizer\n",
    "from sklearn.cluster import KMeans\n",
    "from nltk.tokenize import RegexpTokenizer\n",
    "from nltk.stem.snowball import SnowballStemmer\n",
    "%matplotlib inline"
   ]
  },
  {
   "cell_type": "code",
   "execution_count": 2,
   "metadata": {
    "_cell_guid": "79c7e3d0-c299-4dcb-8224-4455121ee9b0",
    "_uuid": "d629ff2d2480ee46fbb7e2d37f6b5fab8052498a",
    "scrolled": true
   },
   "outputs": [],
   "source": [
    "data = pd.read_csv(\"data job posts.csv\",error_bad_lines=False,usecols =[\"JobDescription\"])"
   ]
  },
  {
   "cell_type": "code",
   "execution_count": 3,
   "metadata": {
    "_cell_guid": "3e44d856-a323-45ac-b7cc-80d77385060f",
    "_uuid": "a498ee778ab763e0801b8f9cf14e1d4d01f38846"
   },
   "outputs": [
    {
     "name": "stdout",
     "output_type": "stream",
     "text": [
      "<class 'pandas.core.frame.DataFrame'>\n",
      "Int64Index: 15109 entries, 0 to 19000\n",
      "Data columns (total 1 columns):\n",
      "JobDescription    15109 non-null object\n",
      "dtypes: object(1)\n",
      "memory usage: 236.1+ KB\n"
     ]
    }
   ],
   "source": [
    "data = data.dropna(how='any',axis=0)\n",
    "data.info()"
   ]
  },
  {
   "cell_type": "markdown",
   "metadata": {
    "_cell_guid": "ff887c6d-0470-4f62-860b-9457b223bb8c",
    "_uuid": "eb590852f097f66ea53be9a970789430fc3f6a63"
   },
   "source": [
    "## Deleting dupliate headlines"
   ]
  },
  {
   "cell_type": "code",
   "execution_count": 4,
   "metadata": {
    "_cell_guid": "42392880-315c-41bf-98e8-a1cbfab72f6e",
    "_uuid": "1e0143660cbb59acf14ed07c847fd9bc3ca85045"
   },
   "outputs": [
    {
     "data": {
      "text/html": [
       "<div>\n",
       "<style scoped>\n",
       "    .dataframe tbody tr th:only-of-type {\n",
       "        vertical-align: middle;\n",
       "    }\n",
       "\n",
       "    .dataframe tbody tr th {\n",
       "        vertical-align: top;\n",
       "    }\n",
       "\n",
       "    .dataframe thead th {\n",
       "        text-align: right;\n",
       "    }\n",
       "</style>\n",
       "<table border=\"1\" class=\"dataframe\">\n",
       "  <thead>\n",
       "    <tr style=\"text-align: right;\">\n",
       "      <th></th>\n",
       "      <th>JobDescription</th>\n",
       "    </tr>\n",
       "  </thead>\n",
       "  <tbody>\n",
       "    <tr>\n",
       "      <th>9915</th>\n",
       "      <td>\"\"Armenia\" International Airports\" CJSC is see...</td>\n",
       "    </tr>\n",
       "    <tr>\n",
       "      <th>10510</th>\n",
       "      <td>\"\"Armenia\" International Airports\" CJSC is see...</td>\n",
       "    </tr>\n",
       "    <tr>\n",
       "      <th>17116</th>\n",
       "      <td>\"4h\" LLC is searching for a result-oriented\\r\\...</td>\n",
       "    </tr>\n",
       "    <tr>\n",
       "      <th>17112</th>\n",
       "      <td>\"4h\" LLC is searching for a result-oriented\\r\\...</td>\n",
       "    </tr>\n",
       "    <tr>\n",
       "      <th>4228</th>\n",
       "      <td>\"ADF Shops\" CJSC is seeking Shop Assistants to...</td>\n",
       "    </tr>\n",
       "    <tr>\n",
       "      <th>5182</th>\n",
       "      <td>\"ADF Shops\" CJSC is seeking Shop Assistants to...</td>\n",
       "    </tr>\n",
       "    <tr>\n",
       "      <th>5018</th>\n",
       "      <td>\"ADF Shops\" CJSC is seeking Shop Assistants to...</td>\n",
       "    </tr>\n",
       "    <tr>\n",
       "      <th>3281</th>\n",
       "      <td>\"ADF Shops\" CJSC is seeking a Shop Assistant t...</td>\n",
       "    </tr>\n",
       "  </tbody>\n",
       "</table>\n",
       "</div>"
      ],
      "text/plain": [
       "                                          JobDescription\n",
       "9915   \"\"Armenia\" International Airports\" CJSC is see...\n",
       "10510  \"\"Armenia\" International Airports\" CJSC is see...\n",
       "17116  \"4h\" LLC is searching for a result-oriented\\r\\...\n",
       "17112  \"4h\" LLC is searching for a result-oriented\\r\\...\n",
       "4228   \"ADF Shops\" CJSC is seeking Shop Assistants to...\n",
       "5182   \"ADF Shops\" CJSC is seeking Shop Assistants to...\n",
       "5018   \"ADF Shops\" CJSC is seeking Shop Assistants to...\n",
       "3281   \"ADF Shops\" CJSC is seeking a Shop Assistant t..."
      ]
     },
     "execution_count": 4,
     "metadata": {},
     "output_type": "execute_result"
    }
   ],
   "source": [
    "data[data['JobDescription'].duplicated(keep=False)].sort_values('JobDescription').head(8)"
   ]
  },
  {
   "cell_type": "code",
   "execution_count": 5,
   "metadata": {
    "_cell_guid": "9f5ff611-397e-45b7-9616-7bc33f6e81bb",
    "_uuid": "4e5e82d7c6fb0e7b14f8b5772bea14e448f88fcc"
   },
   "outputs": [],
   "source": [
    "data = data.drop_duplicates('JobDescription')"
   ]
  },
  {
   "cell_type": "code",
   "execution_count": 6,
   "metadata": {},
   "outputs": [
    {
     "name": "stdout",
     "output_type": "stream",
     "text": [
      "<class 'pandas.core.frame.DataFrame'>\n",
      "Int64Index: 12861 entries, 0 to 19000\n",
      "Data columns (total 1 columns):\n",
      "JobDescription    12861 non-null object\n",
      "dtypes: object(1)\n",
      "memory usage: 201.0+ KB\n"
     ]
    }
   ],
   "source": [
    "data.info()"
   ]
  },
  {
   "cell_type": "markdown",
   "metadata": {
    "_cell_guid": "7ecba7c7-84d0-426b-aa9c-9ca05d45da75",
    "_uuid": "d2f1e1b88fb7b29fd47c249be3af044ef1e2a246"
   },
   "source": [
    "## Preparing data for vectorizaion\n",
    "\n",
    "## Using TF-IDF ranking"
   ]
  },
  {
   "cell_type": "code",
   "execution_count": 7,
   "metadata": {
    "_cell_guid": "c7e595ab-440c-4ad7-98e4-4358cc724d8c",
    "_uuid": "9c1c23ecabae8217a9aa8f90371f2a30053cc6f1"
   },
   "outputs": [],
   "source": [
    "punc = ['.', ',', '\"', \"'\", '?', '!', ':', ';', '(', ')', '[', ']', '{', '}',\"%\"]\n",
    "#from nltk.corpus import stopwords\n",
    "stop_words = text.ENGLISH_STOP_WORDS.union(punc)\n",
    "desc = data['JobDescription'].values\n",
    "vectorizer = TfidfVectorizer(stop_words = stop_words)\n",
    "X = vectorizer.fit_transform(desc)"
   ]
  },
  {
   "cell_type": "code",
   "execution_count": 8,
   "metadata": {
    "_cell_guid": "eb56971e-5412-4138-a4cd-0e14844796be",
    "_uuid": "10af64e15e2f08c30da71b847432eedc2aece199"
   },
   "outputs": [
    {
     "name": "stdout",
     "output_type": "stream",
     "text": [
      "11331\n",
      "['hospitalization', 'hospitalized', 'hospitals', 'host', 'hosted', 'hostel', 'hostess', 'hostile', 'hosting', 'hot', 'hotel', 'hotels', 'hotline', 'hotliner', 'hour', 'hours', 'house', 'household', 'households', 'housekeeper', 'housekeeping', 'houseman', 'houses', 'housing', 'hovnanian', 'hp', 'hpc', 'hpiu', 'hplc', 'hps', 'hq', 'hqs', 'hr', 'hra', 'hrazdan', 'hrbg', 'hrbgs', 'hrdi', 'hrdo', 'hre', 'hrh', 'hrm', 'hrod', 'hrw', 'hs', 'hsbc', 'hsbcnet', 'hsbcs', 'hsc', 'hsd', 'hse', 'ht', 'htm', 'html', 'html5', 'hts', 'htta', 'http', 'huawei', 'hub', 'hubs', 'huge', 'human', 'humanitarian', 'humanities', 'humanity', 'hung', 'hunger', 'hunting', 'huos', 'hurdles', 'husbandry', 'hva', 'hvac', 'hven', 'hw', 'hybrid', 'hydraulic', 'hydraulics', 'hydro', 'hydrological', 'hydrologist', 'hydroponic', 'hydropower', 'hygiene', 'hygienic', 'hypermarket', 'hypothetical', 'hypotheticals', 'hyrogeological', 'ia', 'iabp', 'iam', 'iams', 'iap', 'ias', 'iasb', 'iasc', 'iascf', 'iatc']\n"
     ]
    }
   ],
   "source": [
    "word_features = vectorizer.get_feature_names()\n",
    "print(len(word_features))\n",
    "print(word_features[5000:5100])"
   ]
  },
  {
   "cell_type": "markdown",
   "metadata": {
    "_cell_guid": "871b1bd6-c411-4ff6-a784-9b376a0db4e6",
    "_uuid": "e480f5b88938660f05c09f75af5f9f58d7110096"
   },
   "source": [
    "## Stemming and Tokenizing\n"
   ]
  },
  {
   "cell_type": "code",
   "execution_count": 9,
   "metadata": {
    "_cell_guid": "536a1a88-48a3-43d0-b368-ccf31947e5b1",
    "_uuid": "5d25104db183624b990a1d64e10cc618fd8ee715"
   },
   "outputs": [],
   "source": [
    "stemmer = SnowballStemmer('english')\n",
    "tokenizer = RegexpTokenizer(r'[a-zA-Z\\']+')\n",
    "\n",
    "def tokenize(text):\n",
    "    return [stemmer.stem(word) for word in tokenizer.tokenize(text.lower())]"
   ]
  },
  {
   "cell_type": "markdown",
   "metadata": {},
   "source": [
    "## Tagging and Chunking"
   ]
  },
  {
   "cell_type": "code",
   "execution_count": 13,
   "metadata": {},
   "outputs": [],
   "source": [
    "def tagging(text):\n",
    "    return [nltk.pos_tag(tokenize(text))]\n",
    "            \n",
    "def chunking(text):\n",
    "    return nltk.ne_chunk(tagging(text))"
   ]
  },
  {
   "cell_type": "markdown",
   "metadata": {
    "_cell_guid": "9877cf33-ebe8-46e4-b26e-c6f673617517",
    "_uuid": "d190c4d6b9cb52ad70a021e3475704538b47f85f"
   },
   "source": [
    "## Vectorization with stop words, stemming and tokenizing"
   ]
  },
  {
   "cell_type": "code",
   "execution_count": 14,
   "metadata": {
    "_cell_guid": "18e1d30c-5515-4c0d-89e4-6af99658bee3",
    "_uuid": "5fcc93fa3093f30d181ffa38b4ca46b133316952",
    "scrolled": false
   },
   "outputs": [
    {
     "name": "stderr",
     "output_type": "stream",
     "text": [
      "C:\\Users\\rpras\\Anaconda3\\envs\\new_environment\\lib\\site-packages\\sklearn\\feature_extraction\\text.py:300: UserWarning: Your stop_words may be inconsistent with your preprocessing. Tokenizing the stop words generated tokens ['abov', 'afterward', 'alon', 'alreadi', 'alway', 'ani', 'anoth', 'anyon', 'anyth', 'anywher', 'becam', 'becaus', 'becom', 'befor', 'besid', 'cri', 'describ', 'dure', 'els', 'elsewher', 'empti', 'everi', 'everyon', 'everyth', 'everywher', 'fifti', 'forti', 'henc', 'hereaft', 'herebi', 'howev', 'hundr', 'inde', 'mani', 'meanwhil', 'moreov', 'nobodi', 'noon', 'noth', 'nowher', 'onc', 'onli', 'otherwis', 'ourselv', 'perhap', 'pleas', 'sever', 'sinc', 'sincer', 'sixti', 'someon', 'someth', 'sometim', 'somewher', 'themselv', 'thenc', 'thereaft', 'therebi', 'therefor', 'togeth', 'twelv', 'twenti', 'veri', 'whatev', 'whenc', 'whenev', 'wherea', 'whereaft', 'wherebi', 'wherev', 'whi', 'yourselv'] not in stop_words.\n",
      "  'stop_words.' % sorted(inconsistent))\n"
     ]
    },
    {
     "name": "stdout",
     "output_type": "stream",
     "text": [
      "7379\n",
      "['aa', 'aaa', 'aaasf', 'aac', 'aaff', 'aalaverdyan', 'aalyst', 'aam', 'aarhus', 'aarki', 'aashto', 'aasp', 'aau', 'ab', 'aba', 'abandon', 'abap', 'abat', 'abattoir', 'abbott', 'abbrevi', 'abc', 'abdomin', 'abid', 'abil', 'abkhazia', 'abl', 'abmdp', 'abo', 'abort', 'abov', 'abovement', 'abovian', 'abovyan', 'abreast', 'abroad', 'absenc', 'absent', 'abser', 'absolut', 'absorb', 'abstract', 'abt', 'abus', 'ac', 'acaa', 'academ', 'academi', 'academia', 'acba']\n"
     ]
    }
   ],
   "source": [
    "vectorizer2 = TfidfVectorizer(stop_words = stop_words, tokenizer = tokenize)\n",
    "X2 = vectorizer2.fit_transform(desc)\n",
    "word_features2 = vectorizer2.get_feature_names()\n",
    "print(len(word_features2))\n",
    "print(word_features2[:50]) "
   ]
  },
  {
   "cell_type": "code",
   "execution_count": 15,
   "metadata": {
    "_cell_guid": "acdc11f4-7b5c-4aee-8c42-1a752bffbc2e",
    "_uuid": "244a3015e5b4f4f84c174586fa875f5cf49cff1d"
   },
   "outputs": [],
   "source": [
    "vectorizer3 = TfidfVectorizer(stop_words = stop_words, tokenizer = tokenize, max_features = 1000)\n",
    "X3 = vectorizer3.fit_transform(desc)\n",
    "words = vectorizer3.get_feature_names()"
   ]
  },
  {
   "cell_type": "markdown",
   "metadata": {
    "_cell_guid": "e8a8c1ed-8970-49e0-bae5-0e0d85abea84",
    "_uuid": "b5f2e66c25d17527b78ae1a1fe174f1ac6310286"
   },
   "source": [
    "# For this, we will use k-means clustering algorithm"
   ]
  },
  {
   "cell_type": "markdown",
   "metadata": {
    "_cell_guid": "c9a1312e-45f7-44e4-9407-13012bdf97ce",
    "_uuid": "39ba3fa0f53454111495da2f7e7719572afec93a"
   },
   "source": [
    "## We use Elbow method to select the number of clusters"
   ]
  },
  {
   "cell_type": "code",
   "execution_count": 16,
   "metadata": {
    "_cell_guid": "c72b26ab-4bef-44e6-b854-5bca3cd1f217",
    "_uuid": "992bea80b2647c4f4e564bb020ce8eab07db6b78",
    "scrolled": true
   },
   "outputs": [
    {
     "data": {
      "image/png": "[encoded data removed]",
      "text/plain": [
       "<Figure size 432x288 with 1 Axes>"
      ]
     },
     "metadata": {
      "needs_background": "light"
     },
     "output_type": "display_data"
    }
   ],
   "source": [
    "from sklearn.cluster import KMeans\n",
    "wcss = []\n",
    "for i in range(1,11):\n",
    "    kmeans = KMeans(n_clusters=i,init='k-means++',max_iter=300,n_init=10,random_state=0)\n",
    "    kmeans.fit(X3)\n",
    "    wcss.append(kmeans.inertia_)\n",
    "plt.plot(range(1,11),wcss)\n",
    "plt.title('The Elbow Method')\n",
    "plt.xlabel('Number of clusters')\n",
    "plt.ylabel('WCSS')\n",
    "plt.savefig('elbow.png')\n",
    "plt.show()"
   ]
  },
  {
   "cell_type": "markdown",
   "metadata": {
    "_cell_guid": "2dd63611-35d6-4c6e-b076-c10e18a3b10c",
    "_uuid": "d5184cf4e47df719970d89c5ea8e15d4b9eaa1e5"
   },
   "source": [
    "## As we can see more than one elbows, we will have to select right amount of clusters by trial and error. Lets try 3, 5, 6 and 8"
   ]
  },
  {
   "cell_type": "code",
   "execution_count": 17,
   "metadata": {
    "_cell_guid": "e096b262-a06c-4f0a-9c50-2ef4bda9b926",
    "_uuid": "0ed982322b3a0fecb997e88ef0fb2f681c5a801c",
    "scrolled": false
   },
   "outputs": [
    {
     "name": "stdout",
     "output_type": "stream",
     "text": [
      "['deleg', 'deliv', 'deliver', 'deliveri', 'demand', 'democrat', 'demonstr', 'depart', 'deploy', 'depth', 'deputi', 'descript', 'design', 'desk', 'determin', 'develop', 'differ', 'digit', 'direct', 'director', 'disabl', 'disast', 'disciplin', 'discuss', 'display', 'dissemin', 'distribut', 'divis', 'doctor', 'document', 'domest', 'donor', 'draft', 'draw', 'drive', 'driven', 'driver', 'drug', 'durat', 'dure', 'duti', 'dynam', 'e', 'econom', 'economi', 'edit', 'editor', 'edmc', 'educ', 'effect']\n"
     ]
    }
   ],
   "source": [
    "print(words[250:300])"
   ]
  },
  {
   "cell_type": "markdown",
   "metadata": {
    "_cell_guid": "a3c414e5-70b2-4c63-a46a-f9c82e406e4b",
    "_uuid": "6992f369b10d54adf27ecdcf24c6f57deabf466f"
   },
   "source": [
    "# 3 Clusters"
   ]
  },
  {
   "cell_type": "code",
   "execution_count": 18,
   "metadata": {
    "_cell_guid": "b395dddc-8acb-40a8-825e-a6f3a615809e",
    "_uuid": "e0e187a022ec9032385f715d87cfbb865a11698d",
    "scrolled": false
   },
   "outputs": [
    {
     "name": "stdout",
     "output_type": "stream",
     "text": [
      "0 : respons, manag, incumb, project, work, armenia, servic, support, offic, compani, develop, seek, activ, administr, assist, provid, implement, market, program, oper, account, coordin, supervis, financi, report\n",
      "1 : posit, look, candid, motiv, qualifi, llc, fulfil, seek, cjsc, profession, manag, high, account, experienc, sale, specialist, person, compani, work, market, armenia, depart, offic, invit, proactiv\n",
      "2 : develop, softwar, design, web, applic, engin, look, team, senior, test, llc, project, compani, seek, work, c, product, java, net, join, qa, experienc, high, solut, motiv\n"
     ]
    }
   ],
   "source": [
    "kmeans = KMeans(n_clusters = 3, n_init = 20, n_jobs = 1) # n_init(number of iterations for clsutering) n_jobs(number of cpu cores to use)\n",
    "kmeans.fit(X3)\n",
    "# We look at 3 the clusters generated by k-means.\n",
    "common_words = kmeans.cluster_centers_.argsort()[:,-1:-26:-1]\n",
    "for num, centroid in enumerate(common_words):\n",
    "    print(str(num) + ' : ' + ', '.join(words[word] for word in centroid))"
   ]
  },
  {
   "cell_type": "markdown",
   "metadata": {
    "_cell_guid": "05f80701-83af-49c1-a7b8-df8c20396bb9",
    "_uuid": "4750051c6cbdc6d262f31a94f5c4776eb020644a"
   },
   "source": [
    "# 5 Clusters"
   ]
  },
  {
   "cell_type": "code",
   "execution_count": 19,
   "metadata": {
    "_cell_guid": "137b7e2c-970f-4f2f-929e-c7b2bd2a8004",
    "_uuid": "2813cee7e61b966b179b806d29b222c55551ee35",
    "scrolled": false
   },
   "outputs": [
    {
     "name": "stdout",
     "output_type": "stream",
     "text": [
      "0 : sale, market, manag, respons, compani, product, seek, develop, llc, strategi, custom, incumb, look, activ, servic, plan, promot, specialist, busi, brand, depart, implement, posit, motiv, work\n",
      "1 : account, chief, financi, report, posit, look, compani, respons, manag, candid, depart, financ, tax, activ, control, supervis, seek, organ, incumb, direct, procedur, qualifi, oper, perform, prepar\n",
      "2 : posit, candid, look, fulfil, qualifi, motiv, cjsc, llc, profession, seek, high, person, manag, specialist, experienc, work, compani, armenia, offic, administr, invit, skill, bank, intern, self\n",
      "3 : develop, softwar, web, design, applic, engin, look, team, senior, test, llc, compani, project, seek, c, work, product, java, net, join, qa, experienc, high, solut, motiv\n",
      "4 : respons, manag, project, incumb, work, armenia, offic, support, administr, servic, assist, provid, seek, develop, program, implement, activ, compani, oper, coordin, supervis, look, intern, specialist, organ\n"
     ]
    }
   ],
   "source": [
    "kmeans = KMeans(n_clusters = 5, n_init = 20, n_jobs = 1)\n",
    "kmeans.fit(X3)\n",
    "# We look at 5 the clusters generated by k-means.\n",
    "common_words = kmeans.cluster_centers_.argsort()[:,-1:-26:-1]\n",
    "for num, centroid in enumerate(common_words):\n",
    "    print(str(num) + ' : ' + ', '.join(words[word] for word in centroid))"
   ]
  },
  {
   "cell_type": "markdown",
   "metadata": {
    "_cell_guid": "e5ab0cdc-1178-486d-a982-3457aa69d234",
    "_uuid": "4faeeea430f9f679a594b2c7f1ef1c857611ade5"
   },
   "source": [
    "# 6 Clusters"
   ]
  },
  {
   "cell_type": "code",
   "execution_count": 20,
   "metadata": {
    "_cell_guid": "de4d9fbb-2462-4491-899f-b1e28e1a7697",
    "_uuid": "73c1c5bfafe12fd9bd57ab0c3bd07f60630f05a8"
   },
   "outputs": [
    {
     "name": "stdout",
     "output_type": "stream",
     "text": [
      "0 : project, program, armenia, implement, develop, manag, coordin, offic, work, support, assist, activ, supervis, respons, nation, provid, incumb, programm, technic, consult, fund, expert, direct, usaid, communiti\n",
      "1 : posit, candid, look, fulfil, qualifi, motiv, llc, cjsc, profession, seek, high, specialist, manag, person, experienc, work, compani, invit, armenia, offic, bank, proactiv, skill, administr, intern\n",
      "2 : sale, market, manag, respons, compani, product, seek, develop, strategi, llc, custom, incumb, look, servic, activ, plan, promot, busi, specialist, brand, depart, implement, posit, motiv, work\n",
      "3 : respons, incumb, manag, administr, compani, servic, work, seek, oper, look, provid, offic, custom, support, bank, assist, product, activ, armenia, organ, depart, intern, perform, financi, specialist\n",
      "4 : develop, softwar, web, applic, design, engin, look, team, senior, test, llc, compani, c, seek, work, project, java, product, net, join, qa, experienc, high, motiv, solut\n",
      "5 : account, chief, financi, report, posit, look, compani, respons, manag, depart, candid, financ, tax, activ, control, supervis, organ, seek, incumb, direct, perform, procedur, oper, prepar, qualifi\n"
     ]
    }
   ],
   "source": [
    "kmeans = KMeans(n_clusters = 6, n_init = 20, n_jobs = 1)\n",
    "kmeans.fit(X3)\n",
    "# We look at 6 the clusters generated by k-means.\n",
    "common_words = kmeans.cluster_centers_.argsort()[:,-1:-26:-1]\n",
    "for num, centroid in enumerate(common_words):\n",
    "    print(str(num) + ' : ' + ', '.join(words[word] for word in centroid))"
   ]
  },
  {
   "cell_type": "markdown",
   "metadata": {
    "_cell_guid": "bff92434-ec9d-4e6b-a4a2-72ec4ea6f3bc",
    "_uuid": "7225da580975f8589615a8fd5232ba3c80780845"
   },
   "source": [
    "# 8 Clusters"
   ]
  },
  {
   "cell_type": "code",
   "execution_count": 21,
   "metadata": {
    "_cell_guid": "4134a6d2-09aa-4cf5-9821-d95d0482c4ac",
    "_uuid": "cf3c5af56aa05f6679effe85774207fe824255a1"
   },
   "outputs": [
    {
     "name": "stdout",
     "output_type": "stream",
     "text": [
      "0 : posit, candid, look, fulfil, motiv, qualifi, cjsc, llc, profession, seek, high, specialist, manag, person, experienc, compani, work, bank, invit, skill, offic, proactiv, armenia, intern, self\n",
      "1 : sale, market, manag, respons, compani, product, develop, seek, llc, strategi, incumb, custom, look, activ, plan, specialist, promot, servic, busi, brand, depart, implement, posit, motiv, work\n",
      "2 : project, program, armenia, implement, develop, manag, coordin, offic, work, support, activ, assist, supervis, nation, respons, programm, consult, incumb, expert, provid, technic, fund, communiti, direct, yerevan\n",
      "3 : develop, web, applic, look, design, team, llc, java, net, senior, work, compani, seek, php, experienc, project, mobil, c, product, motiv, experi, high, technolog, join, softwar\n",
      "4 : account, chief, financi, report, posit, look, compani, respons, manag, candid, depart, financ, tax, activ, supervis, seek, organ, control, incumb, direct, qualifi, procedur, perform, oper, prepar\n",
      "5 : respons, incumb, manag, compani, work, servic, seek, custom, oper, look, bank, product, provid, support, armenia, intern, organ, develop, activ, financi, busi, specialist, depart, design, ensur\n",
      "6 : softwar, develop, engin, test, design, team, c, senior, look, qa, applic, project, autom, seek, qualiti, engag, product, join, compani, llc, respons, long, posit, implement, process\n",
      "7 : administr, assist, offic, support, manag, respons, provid, incumb, secretari, look, network, servic, oper, supervis, seek, perform, work, director, posit, databas, armenia, mainten, compani, activ, general\n"
     ]
    }
   ],
   "source": [
    "kmeans = KMeans(n_clusters = 8, n_init = 20, n_jobs = 1)\n",
    "kmeans.fit(X3)\n",
    "# Finally, we look at 8 the clusters generated by k-means.\n",
    "common_words = kmeans.cluster_centers_.argsort()[:,-1:-26:-1]\n",
    "for num, centroid in enumerate(common_words):\n",
    "    print(str(num) + ' : ' + ', '.join(words[word] for word in centroid))"
   ]
  }
 ],
 "metadata": {
  "kernelspec": {
   "display_name": "new_environment",
   "language": "python",
   "name": "new_environment"
  },
  "language_info": {
   "codemirror_mode": {
    "name": "ipython",
    "version": 3
   },
   "file_extension": ".py",
   "mimetype": "text/x-python",
   "name": "python",
   "nbconvert_exporter": "python",
   "pygments_lexer": "ipython3",
   "version": "3.6.8"
  }
 },
 "nbformat": 4,
 "nbformat_minor": 1
}
